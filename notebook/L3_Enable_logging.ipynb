{
 "cells": [
  {
   "cell_type": "markdown",
   "id": "cc6b7b9f-a75d-4b78-930f-26d2343ac2c2",
   "metadata": {},
   "source": [
    "# Lesson 3: Enable Logging"
   ]
  },
  {
   "cell_type": "markdown",
   "id": "06fc5839-0b4b-42a3-9aaf-99a97e347955",
   "metadata": {},
   "source": [
    "### Import all needed packages"
   ]
  },
  {
   "cell_type": "code",
   "execution_count": 1,
   "id": "63cf31e4",
   "metadata": {
    "height": 115
   },
   "outputs": [],
   "source": [
    "import boto3\n",
    "import json\n",
    "import os\n",
    "\n",
    "bedrock = boto3.client('bedrock', region_name=\"us-west-2\")"
   ]
  },
  {
   "cell_type": "code",
   "execution_count": 2,
   "id": "e5d9e31b",
   "metadata": {
    "height": 64
   },
   "outputs": [],
   "source": [
    "from helpers.CloudWatchHelper import CloudWatch_Helper\n",
    "cloudwatch = CloudWatch_Helper()"
   ]
  },
  {
   "cell_type": "code",
   "execution_count": 3,
   "id": "87a30e7e",
   "metadata": {
    "height": 30
   },
   "outputs": [],
   "source": [
    "log_group_name = '/my/amazon/bedrock/logs'"
   ]
  },
  {
   "cell_type": "code",
   "execution_count": 4,
   "id": "2461a51c",
   "metadata": {
    "height": 30
   },
   "outputs": [
    {
     "name": "stdout",
     "output_type": "stream",
     "text": [
      "Log group '/my/amazon/bedrock/logs' created successfully.\n"
     ]
    }
   ],
   "source": [
    "cloudwatch.create_log_group(log_group_name)"
   ]
  },
  {
   "cell_type": "code",
   "execution_count": 5,
   "id": "0afe5997",
   "metadata": {
    "height": 285
   },
   "outputs": [],
   "source": [
    "loggingConfig = {\n",
    "    'cloudWatchConfig': {\n",
    "        'logGroupName': log_group_name,\n",
    "        'roleArn': os.environ['LOGGINGROLEARN'],\n",
    "        'largeDataDeliveryS3Config': {\n",
    "            'bucketName': os.environ['LOGGINGBUCKETNAME'],\n",
    "            'keyPrefix': 'amazon_bedrock_large_data_delivery',\n",
    "        }\n",
    "    },\n",
    "    's3Config': {\n",
    "        'bucketName': os.environ['LOGGINGBUCKETNAME'],\n",
    "        'keyPrefix': 'amazon_bedrock_logs',\n",
    "    },\n",
    "    'textDataDeliveryEnabled': True,\n",
    "}"
   ]
  },
  {
   "cell_type": "code",
   "execution_count": 6,
   "id": "2ca33ffe",
   "metadata": {
    "height": 47
   },
   "outputs": [
    {
     "data": {
      "text/plain": [
       "{'ResponseMetadata': {'RequestId': '947a77e4-762a-4fe9-bc7f-f5cf5f608464',\n",
       "  'HTTPStatusCode': 200,\n",
       "  'HTTPHeaders': {'date': 'Thu, 25 Sep 2025 11:36:02 GMT',\n",
       "   'content-type': 'application/json',\n",
       "   'content-length': '2',\n",
       "   'connection': 'keep-alive',\n",
       "   'x-amzn-requestid': '947a77e4-762a-4fe9-bc7f-f5cf5f608464'},\n",
       "  'RetryAttempts': 0}}"
      ]
     },
     "execution_count": 6,
     "metadata": {},
     "output_type": "execute_result"
    }
   ],
   "source": [
    "bedrock.put_model_invocation_logging_configuration(loggingConfig=loggingConfig)"
   ]
  },
  {
   "cell_type": "code",
   "execution_count": 7,
   "id": "41fdb20d",
   "metadata": {
    "height": 47
   },
   "outputs": [
    {
     "data": {
      "text/plain": [
       "{'ResponseMetadata': {'RequestId': '1c42d21e-ecc0-4caa-b6e4-2179e4447017',\n",
       "  'HTTPStatusCode': 200,\n",
       "  'HTTPHeaders': {'date': 'Thu, 25 Sep 2025 11:36:03 GMT',\n",
       "   'content-type': 'application/json',\n",
       "   'content-length': '604',\n",
       "   'connection': 'keep-alive',\n",
       "   'x-amzn-requestid': '1c42d21e-ecc0-4caa-b6e4-2179e4447017'},\n",
       "  'RetryAttempts': 0},\n",
       " 'loggingConfig': {'cloudWatchConfig': {'logGroupName': '/my/amazon/bedrock/logs',\n",
       "   'roleArn': 'arn:aws:iam::535213798203:role/c99355a2566044l11788804t1w5352137982-LoggingIAMRole-LnP5QZMDJHGk',\n",
       "   'largeDataDeliveryS3Config': {'bucketName': 'c99355a2566044l11788804t1w53521379-loggings3bucket-endq3vjsqw5j',\n",
       "    'keyPrefix': 'amazon_bedrock_large_data_delivery'}},\n",
       "  's3Config': {'bucketName': 'c99355a2566044l11788804t1w53521379-loggings3bucket-endq3vjsqw5j',\n",
       "   'keyPrefix': 'amazon_bedrock_logs'},\n",
       "  'textDataDeliveryEnabled': True,\n",
       "  'imageDataDeliveryEnabled': True,\n",
       "  'embeddingDataDeliveryEnabled': True}}"
      ]
     },
     "execution_count": 7,
     "metadata": {},
     "output_type": "execute_result"
    }
   ],
   "source": [
    "bedrock.get_model_invocation_logging_configuration()"
   ]
  },
  {
   "cell_type": "code",
   "execution_count": 8,
   "id": "95ebecb7",
   "metadata": {
    "height": 47
   },
   "outputs": [],
   "source": [
    "bedrock_runtime = boto3.client('bedrock-runtime', region_name=\"us-west-2\")"
   ]
  },
  {
   "cell_type": "code",
   "execution_count": 9,
   "id": "402c6311",
   "metadata": {
    "height": 438
   },
   "outputs": [
    {
     "name": "stdout",
     "output_type": "stream",
     "text": [
      "\n",
      "Foobar is a fictional planet that appears in a number of works of science fiction and fantasy literature. It is a planet with a unique and fascinating history, culture, and geography.\n",
      "\n",
      "Foobar is a planet that is approximately the size of Earth and is located in a solar system that is similar to our own. It has a temperate climate with a variety of different biomes, including forests, grasslands, and oceans. The planet is inhabited by a wide range of sentient species, including humans, aliens, and other intelligent creatures.\n",
      "\n",
      "One of the most interesting features of Foobar is its history. It is believed to have been inhabited by a powerful race of aliens known as the \"Foobarians\" for thousands of years. The Foobarians were a technologically advanced society that had mastered the arts of space travel and had colonized many planets throughout the galaxy. However, their civilization eventually fell apart, and the planet was left in ruins.\n",
      "\n",
      "After the fall of the Foobarians, a number of different species moved to Foobar and began to settle on the planet. These included the humans, who arrived on Foobar in the late 20th century and began to establish colonies. The humans quickly began to explore the planet and discovered many amazing things, including the ruins of the Foobarian civilization and the strange creatures that lived on the planet.\n",
      "\n",
      "One of the most fascinating creatures on Foobar is the \"Foobarian Dragon\". The Foobarian Dragon is a massive, reptilian creature that is said to be the most powerful creature in the galaxy. It has a wingspan of over 100 feet and is capable of breathing fire and lightning. The Foobarian Dragon is believed to be the last surviving member of the Foobarian civilization and is protected by the humans who live on Foobar.\n",
      "\n",
      "In addition to the Foobarian Dragon, Foobar is home to a wide range of other creatures, including the \"Foobarian Centipede\", the \"Foobarian Spider\", and the \"Foobarian Frog\". These creatures are all unique and fascinating in their own way and have played a significant role in the culture and mythology of Foobar.\n",
      "\n",
      "Foobar is also home to a number of different cultures and societies. The humans who live on Foobar have developed their own unique culture and society, which is based on a combination of their own traditions and those of the Foobarian civilization. The humans on Foobar are known for their creativity, innovation\n"
     ]
    }
   ],
   "source": [
    "prompt = \"Write an article about the fictional planet Foobar.\"\n",
    "\n",
    "kwargs = {\n",
    "    \"modelId\": \"amazon.titan-text-express-v1\",\n",
    "    \"contentType\": \"application/json\",\n",
    "    \"accept\": \"*/*\",\n",
    "    \"body\": json.dumps(\n",
    "        {\n",
    "            \"inputText\": prompt,\n",
    "            \"textGenerationConfig\": {\n",
    "                \"maxTokenCount\": 512,\n",
    "                \"temperature\": 0.7,\n",
    "                \"topP\": 0.9\n",
    "            }\n",
    "        }\n",
    "    )\n",
    "}\n",
    "\n",
    "response = bedrock_runtime.invoke_model(**kwargs)\n",
    "response_body = json.loads(response.get('body').read())\n",
    "\n",
    "generation = response_body['results'][0]['outputText']\n",
    "\n",
    "print(generation)"
   ]
  },
  {
   "cell_type": "code",
   "execution_count": 10,
   "id": "68a7bab7",
   "metadata": {
    "height": 30
   },
   "outputs": [
    {
     "name": "stdout",
     "output_type": "stream",
     "text": [
      "Permissions are correctly set for Amazon Bedrock logs.\n",
      "-------------------------\n",
      "\n"
     ]
    }
   ],
   "source": [
    "cloudwatch.print_recent_logs(log_group_name)"
   ]
  },
  {
   "cell_type": "markdown",
   "id": "1118acfb",
   "metadata": {},
   "source": [
    "To review the logs within the AWS console, please use the following link to reference the steps outlined in the video:"
   ]
  },
  {
   "cell_type": "code",
   "execution_count": 11,
   "id": "2cf443d2",
   "metadata": {
    "height": 47
   },
   "outputs": [],
   "source": [
    "from IPython.display import HTML\n",
    "aws_url = os.environ['AWS_CONSOLE_URL']"
   ]
  },
  {
   "cell_type": "code",
   "execution_count": 32,
   "id": "0b7c904c",
   "metadata": {
    "height": 64
   },
   "outputs": [
    {
     "data": {
      "text/html": [
       "<a href=\"https://signin.aws.amazon.com/federation?Action=login&SigninToken=sHruiRTZC97veKxOtjnQbHDATxCK2M6dnG3A-1hNZM_pF09645LLmKOX3YO-jWJhIDuJ7d5RQWqKitWDhtx3n7EvZtyNALbssMaRdFf8SZFyGgKUvsHj_Gc36Ng7_fNtvbbjVDFQBj0TpxbStzFgvW90AraIrXF9AeZuGzuFl4_JNNkolkpQSxE3Pqu4oA0Wae6r8igCFTMgzJpfc42cTajovAT4PF6Xvf2SQOcsqzvYwRp9jLjzrJHJI-Y0sMYv3YEG8NRiqH1-zH48yXa44tex-F8ob4EEvCm4bClHMwyewcRZn-oXX1TNra5jaQ7GqL2aRYrCllDZ4ka6ms0wq9gKzrYj3LVFOmituLEjnaNrREJm4bxAddH02psfdqCl9QVAvsqbNVle4egHZEJtrEGT4_rT9ntD4pLIc8PHHRnpfO-W69RL3lKMLdlRIU6GbMw6KLFaaFR1U6uHmXZUWZOvKC-mXDFICB9kAUl7N6sChugkzNrn6ekumXCh-qg6UFloYXQQqwsBTOXoTOJnFyLeblPE0H6rFEBhx96nkFLU8TCeFAU-xosnaFKwWZCoCzWaopJdle92lLh8ox_CqdM_fyq3nKn_m4Z55hd5ZqaMEQSXjjePV0WrdV36u_8cCIJL-99HoKpMZUA4aZff8z989oRH2p_tkcb-qeh7uxMWOVQvRr8zZaWz2EsO-NjfRi7JQYvISfei96Nn_xP2KzJbTy9PiVv3fbbIxJgpd1O_0217S7TTz3xwGsB1HrYujJrj3dgAgRcG9pkPScvHlvRj6JnaOn45iZR0IpVtwMhjEtBrOLTtXA7QRF6798c1nKls4fl1sHpzBE8yiIZBhE-DOlhapbkMYGodWtsfZnCDeN2NK48OGEEui-c911wZejvwHGw_SUCbW-2wRy4SAnuz6lACtR-GRqPz3cYfCMCVTKE7qCh6oHvhwuX6YEnGXjAX_wexUSs_uLPYM6SL594dfhVwrynwDrVmWszMnd1qEWNFJUqs4ThBwzeNl3TWAZZabhgOa0dPBV3rlKshEPJOXMOltt_SMHC7zRj9umZyyKTgOz5yDnC1F5GFEBl2N3FE6FH3KO0_xn4R2-DYw-kxB-nfeXmQWoWIY71RIcqMIEhNPEsrm1IQ3XWopKJHkrDlGvgdcrxDIRxUxXYY0S2U4Wbb42imk0lAaPvfH2VXM2yv5W922vgMsD_L1lNHddb-3oPzFk2yilFlPWOZGo03bp1anAcW3uNt1ty6KT9E6AMdXbHZKRhHX6akqYor_m0tY2RVh-nzKiVqsqB1F4astoIr6H-vICCIMRpLFrJJQHelu64yR5A51XdgkV_Pq_IIW13mdY7-TWolDP2xQNkQgFLvaJk5QDG2IUvYkmgJJ8IGW0ZTDWwdInc04uFhEcak0vKO0fuAZEY77p2UCL7SXDV3oq-clx_wzUI13-t6XkURtpo8u0EKfPO5UD-MZxISOtJi7g1khIemL6F-vSyzzeWW3T4yu5KK_M28Q4gfalhkwbRjM1ubDn8FVZl7St9Wh8PIe4w2otY&Issuer=https%3A%2F%2Fapi.vocareum.com&Destination=https%3A%2F%2Fconsole.aws.amazon.com%2Fconsole%2Fhome%3Fregion%3Dus-west-2\" target=\"_blank\">GO TO AWS CONSOLE</a>"
      ],
      "text/plain": [
       "<IPython.core.display.HTML object>"
      ]
     },
     "execution_count": 32,
     "metadata": {},
     "output_type": "execute_result"
    }
   ],
   "source": [
    "HTML(f'<a href=\"{aws_url}\" target=\"_blank\">GO TO AWS CONSOLE</a>')\n"
   ]
  }
 ],
 "metadata": {
  "kernelspec": {
   "display_name": "Python 3 (ipykernel)",
   "language": "python",
   "name": "python3"
  },
  "language_info": {
   "codemirror_mode": {
    "name": "ipython",
    "version": 3
   },
   "file_extension": ".py",
   "mimetype": "text/x-python",
   "name": "python",
   "nbconvert_exporter": "python",
   "pygments_lexer": "ipython3",
   "version": "3.11.9"
  }
 },
 "nbformat": 4,
 "nbformat_minor": 5
}
